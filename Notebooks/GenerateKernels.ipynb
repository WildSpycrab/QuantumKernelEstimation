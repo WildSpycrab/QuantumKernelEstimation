{
 "cells": [
  {
   "cell_type": "code",
   "execution_count": null,
   "id": "9ebe0b0f",
   "metadata": {},
   "outputs": [],
   "source": [
    "from Imports import *\n",
    "from Preprocessing import *"
   ]
  },
  {
   "cell_type": "code",
   "execution_count": 9,
   "id": "0d75f428",
   "metadata": {},
   "outputs": [],
   "source": [
    "gpuAcceleration = False\n",
    "if gpuAcceleration:\n",
    "    backend_options = {        \n",
    "        'device': \"GPU\",\n",
    "    }\n",
    "\n",
    "    options = {\n",
    "        'backend_options': backend_options\n",
    "    }\n",
    "\n",
    "    sampler = Sampler(options = options)\n",
    "else:\n",
    "    sampler = Sampler()"
   ]
  },
  {
   "cell_type": "code",
   "execution_count": 16,
   "id": "115a8e77",
   "metadata": {},
   "outputs": [
    {
     "name": "stdout",
     "output_type": "stream",
     "text": [
      "✓ Training data loaded: 69 rows, 8 columns\n",
      "✓ Test data loaded: 21 rows, 8 columns\n"
     ]
    }
   ],
   "source": [
    "feature_dimension=8\n",
    "reps=2\n",
    "\n",
    "# Data paths\n",
    "TRAIN_FILE = '../Data/X_train_scaled.csv'\n",
    "TEST_FILE = '../Data/X_test_scaled.csv'\n",
    "LABEL_TRAIN_FILE = '../Data/2025-Quantathon-Tornado-Q-training_data-640-examples.xlsx'\n",
    "LABEL_TEST_FILE = '../Data/2025-Quantum-Tornado-Q-test_data-200-examples.xlsx'\n",
    "SAVE_LOCATION = \"../kernels/\"\n",
    "\n",
    "df_train = pd.read_csv(TRAIN_FILE)\n",
    "df_test = pd.read_csv(TEST_FILE)\n",
    "\n",
    "df_label_train_class = pd.read_excel(LABEL_TRAIN_FILE)[\"ef_class\"]\n",
    "\n",
    "df_label_test_class = pd.read_excel(LABEL_TEST_FILE)[\"ef_class\"]\n",
    "\n",
    "df_label_train_class, df_train = removeWeakTornados(df_label_train_class, df_train)\n",
    "df_label_test_class, df_test = removeWeakTornados(df_label_test_class, df_test)\n",
    "\n",
    "# Renormalize Data\n",
    "df_train = df_train.drop(df_train.columns[-1], axis = 1) \n",
    "df_train = np.tanh(df_train)\n",
    "df_test = df_test.drop(df_test.columns[-1], axis = 1)\n",
    "df_test = np.tanh(df_test)\n",
    "\n",
    "print(f\"✓ Training data loaded: {df_train.shape[0]} rows, {df_train.shape[1]} columns\")\n",
    "print(f\"✓ Test data loaded: {df_test.shape[0]} rows, {df_test.shape[1]} columns\")\n"
   ]
  },
  {
   "cell_type": "code",
   "execution_count": null,
   "id": "3a6a26e1",
   "metadata": {},
   "outputs": [],
   "source": [
    "#Classify on quantum feature generated data? Probably not useful, but who knows?"
   ]
  },
  {
   "cell_type": "code",
   "execution_count": null,
   "id": "cf8f41fb",
   "metadata": {},
   "outputs": [],
   "source": [
    "#Dict of which Encodings/Kernels to compute.\n",
    "settings = {\n",
    "    \"basisEncoding\": False,\n",
    "    \"amplitudeEncoding\": False,\n",
    "    \"angleEncoding\": False,\n",
    "    \"phaseEncoding\": False,\n",
    "    \"denseAngleEncoding\": False,\n",
    "    \"zEncoding\":True,\n",
    "    \"zzEncoding:\":True,\n",
    "    \"rbfKernel\":True,\n",
    "    \"linearKernel\":False,\n",
    "    \"polynomialKernel\":False,\n",
    "}\n",
    "\n",
    "\n",
    "GAMMA = 0.5 #Probably worth trying a spread of gammas.\n"
   ]
  },
  {
   "cell_type": "markdown",
   "id": "1204e625",
   "metadata": {},
   "source": [
    "# MAKE SURE TO SAVE KERNELS TO A FILE IN ./kernels !!!\n",
    "### Also save graphs to a file! Make them pretty and readable! Make there be an option to save or not (for graphs and kernels)!"
   ]
  },
  {
   "cell_type": "code",
   "execution_count": 6,
   "id": "32849717",
   "metadata": {},
   "outputs": [],
   "source": [
    "#Data Encoding - Different Methods to try. \n",
    "#Make this a dict? Then settings choose which to include in dict. Makes training/fitting/faster\n",
    "feature_maps = {\n",
    "#basisEncoding = ,\n",
    "#amplitudeEncoding = ,\n",
    "#angleEncoding = ,\n",
    "#phaseEncoding = ,\n",
    "#denseAngleEncoding = ,\n",
    "\"zEncoding\": z_feature_map(feature_dimension=feature_dimension, reps=reps, entanglement=\"linear\"),\n",
    "\"zzEncoding\": zz_feature_map(feature_dimension=feature_dimension, reps=reps, entanglement=\"linear\")}\n",
    "\n",
    "#what does varying reps do? Can I show a number on how varying reps changes things?\n",
    "#Print/store data like circuit depth!\n",
    "#Try different feature maps! Which is best?\n",
    "\n",
    "#Different inner products?"
   ]
  },
  {
   "cell_type": "code",
   "execution_count": null,
   "id": "511ae8ba",
   "metadata": {},
   "outputs": [],
   "source": [
    "for encoding in feature_maps:\n",
    "    if settings[encoding]:\n",
    "        quantum_kernel = FidelityQuantumKernel(feature_map=feature_maps[encoding], fidelity=ComputeUncompute(sampler))\n",
    "        quantum_kernel_train = quantum_kernel.evaluate(df_train)\n",
    "        quantum_kernel_test = quantum_kernel.evaluate(df_test, df_train)\n",
    "        np.save(f'./kernels/{encoding}kernel_train.npy', quantum_kernel_train)\n",
    "        np.save(f'./{encoding}kernel_test.npy', quantum_kernel_test)"
   ]
  },
  {
   "cell_type": "code",
   "execution_count": null,
   "id": "92cc5bd3",
   "metadata": {},
   "outputs": [],
   "source": [
    "#RBF Kernel\n",
    "if settings[\"rbfKernel\"]:\n",
    "    rbf_kernel_train = rbf_kernel(df_train, df_train, gamma=GAMMA)\n",
    "    rbf_kernel_test = rbf_kernel(df_test, df_train, gamma=GAMMA)\n",
    "    np.save(f'./kernels/rbf_kernel_train.npy', rbf_kernel)\n",
    "    np.save(f'./rbf_kernel_test.npy', rbf_kernel)"
   ]
  },
  {
   "cell_type": "code",
   "execution_count": null,
   "id": "4dd15e3f",
   "metadata": {},
   "outputs": [],
   "source": [
    "#Linear Kernel\n",
    "\n"
   ]
  },
  {
   "cell_type": "code",
   "execution_count": null,
   "id": "9b24c1e0",
   "metadata": {},
   "outputs": [],
   "source": [
    "#Polynomial Kernel\n",
    "\n",
    "\n"
   ]
  },
  {
   "cell_type": "code",
   "execution_count": null,
   "id": "e4589533",
   "metadata": {},
   "outputs": [],
   "source": [
    "#Cosine Kernel\n",
    "\n"
   ]
  },
  {
   "cell_type": "code",
   "execution_count": null,
   "id": "308e4fca",
   "metadata": {},
   "outputs": [],
   "source": [
    "#Sigmoid Kernel\n",
    "\n"
   ]
  }
 ],
 "metadata": {
  "kernelspec": {
   "display_name": "kernelEstimate",
   "language": "python",
   "name": "python3"
  },
  "language_info": {
   "codemirror_mode": {
    "name": "ipython",
    "version": 3
   },
   "file_extension": ".py",
   "mimetype": "text/x-python",
   "name": "python",
   "nbconvert_exporter": "python",
   "pygments_lexer": "ipython3",
   "version": "3.11.7"
  }
 },
 "nbformat": 4,
 "nbformat_minor": 5
}
